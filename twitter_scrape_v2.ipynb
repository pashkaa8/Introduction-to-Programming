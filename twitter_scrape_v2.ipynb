{
 "cells": [
  {
   "cell_type": "markdown",
   "id": "a1820475",
   "metadata": {},
   "source": [
    "INVESTMENTS - A modern approach to analyze investment opportunities"
   ]
  },
  {
   "cell_type": "markdown",
   "id": "43a621fe",
   "metadata": {},
   "source": [
    "Readme: This tool analyzes stocks based on sentiments spotted in Twitter posts. Our program scrapes tweets including stock's ticker names of your interest and translates emojis and keywords included in the tweets into sentiments scores. The higher the senitment score, the better the popularity and senitmens regarding the stock, meaning that stocks with high sentiment scores could be a good investment opportunity. Since twitter is the social media platform where news about stocks appear first, we can play this advantage out and invest before others do.\n",
    "\n",
    "As far as we have observed, most tweet sentiment analysis works focus on text analysis. For this reason, our primary goal in this work is to examine emojis and their implied sentiment scores."
   ]
  },
  {
   "cell_type": "code",
   "execution_count": 1,
   "id": "369a615a",
   "metadata": {},
   "outputs": [
    {
     "name": "stderr",
     "output_type": "stream",
     "text": [
      "[nltk_data] Downloading package vader_lexicon to\n",
      "[nltk_data]     C:\\Users\\User\\AppData\\Roaming\\nltk_data...\n",
      "[nltk_data]   Package vader_lexicon is already up-to-date!\n"
     ]
    }
   ],
   "source": [
    "import pandas as pd\n",
    "import numpy as np\n",
    "import datetime as dt\n",
    "import snscrape.modules.twitter as sntwitter\n",
    "from emoji import UNICODE_EMOJI\n",
    "import requests\n",
    "import bs4\n",
    "import nltk\n",
    "from nltk.sentiment import SentimentIntensityAnalyzer\n",
    "nltk.download('vader_lexicon')\n",
    "import matplotlib.pyplot as plt"
   ]
  },
  {
   "cell_type": "markdown",
   "id": "e5bd404a",
   "metadata": {},
   "source": [
    "**Defining example ticker to work with**"
   ]
  },
  {
   "cell_type": "markdown",
   "id": "8dddc45f",
   "metadata": {},
   "source": [
    "As introduction to our program, we analyze the Apple Inc. stock (Ticker Name: AAPL) and guide you through our code and explain how it works and which functionalities it has."
   ]
  },
  {
   "cell_type": "code",
   "execution_count": 2,
   "id": "2e652b22",
   "metadata": {},
   "outputs": [],
   "source": [
    "ticker = \"AAPL\""
   ]
  },
  {
   "cell_type": "markdown",
   "id": "09d2e144",
   "metadata": {},
   "source": [
    "**Twitter scraping example**"
   ]
  },
  {
   "cell_type": "markdown",
   "id": "29965166",
   "metadata": {},
   "source": [
    "With the following block of code, we scrape the last 500 tweets including the ticker symbols previously specified and gather them in the list “all_tweets”. Simultaniously we screen for emojis included in each tweet and gather them in the “all_emojis” list.\n",
    "\n"
   ]
  },
  {
   "cell_type": "markdown",
   "id": "9e86556a",
   "metadata": {},
   "source": [
    "To only leave meaningful tweets, we filter by likeCount greater than 10. Then, emoji scores as weighted based on likeCount + replyCount. For example, one emoji in a tweet with 100 replies and likes is 5 times more valuable than emoji in a tweet with 20 likes and replies."
   ]
  },
  {
   "cell_type": "code",
   "execution_count": 99,
   "id": "d06d7e50",
   "metadata": {},
   "outputs": [],
   "source": [
    "def twitter_scrape(ticker, max_tweets):\n",
    "    tweet_dict = {}\n",
    "    for i, tweet in enumerate(sntwitter.TwitterSearchScraper(ticker).get_items()):\n",
    "        if i > max_tweets:\n",
    "            break\n",
    "        elif tweet.likeCount < 5:\n",
    "            continue\n",
    "        else:\n",
    "            tweet_dict[tweet.content] = tweet.likeCount + tweet.replyCount\n",
    "\n",
    "    new_dict = {}\n",
    "    for tweet in tweet_dict:\n",
    "        tweet_emojis = {}\n",
    "        for element in tweet:\n",
    "            if element in UNICODE_EMOJI['en']:\n",
    "                tweet_emojis[element] = tweet_dict[tweet]\n",
    "        new_dict[tweet] = tweet_emojis\n",
    "\n",
    "    return new_dict"
   ]
  },
  {
   "cell_type": "code",
   "execution_count": 105,
   "id": "8518b47c",
   "metadata": {},
   "outputs": [],
   "source": [
    "all_tweets = [i for i in twitter_scrape(ticker, 500)]\n",
    "all_emojis = [values for keys, values in twitter_scrape(ticker, 500).items()]"
   ]
  },
  {
   "cell_type": "markdown",
   "id": "96f3e0d9",
   "metadata": {},
   "source": [
    "**Scraping for emoji category data from the web:**"
   ]
  },
  {
   "cell_type": "markdown",
   "id": "8adf5ec4",
   "metadata": {},
   "source": [
    "Next we needed to scrape for all emoji symbols and their sentiment scores. The website http://kt.ijs.si/data/Emoji_sentiment_ranking/ provides us with the necessary data. "
   ]
  },
  {
   "cell_type": "code",
   "execution_count": 108,
   "id": "c062dee0",
   "metadata": {},
   "outputs": [],
   "source": [
    "url = \"http://kt.ijs.si/data/Emoji_sentiment_ranking/\"\n",
    "response = requests.get(url)\n",
    "html_parsed = bs4.BeautifulSoup(response.text, 'html.parser')\n"
   ]
  },
  {
   "cell_type": "markdown",
   "id": "c0edfeec",
   "metadata": {},
   "source": [
    "**Classifying the main table into sub-tables with individual emojis (TRs):**"
   ]
  },
  {
   "cell_type": "markdown",
   "id": "ae46ef6f",
   "metadata": {},
   "source": [
    "We transformed the table from the website including all emoji data into sub tables including data per specified emoji. "
   ]
  },
  {
   "cell_type": "code",
   "execution_count": 109,
   "id": "e413bfaf",
   "metadata": {},
   "outputs": [],
   "source": [
    "tables = html_parsed.find_all(\"tr\")"
   ]
  },
  {
   "cell_type": "markdown",
   "id": "7f27ac0b",
   "metadata": {},
   "source": [
    "**Scraping emoji symbols:**"
   ]
  },
  {
   "cell_type": "markdown",
   "id": "429b285b",
   "metadata": {},
   "source": [
    "To scrape emoji symbols, particular symbols in the website code are used locate them."
   ]
  },
  {
   "cell_type": "code",
   "execution_count": 110,
   "id": "07f14791",
   "metadata": {},
   "outputs": [],
   "source": [
    "emoji_list = []\n",
    "\n",
    "for row in tables:\n",
    "    string_row = str(row)\n",
    "    emoji = string_row[(string_row.find(\"<tr><td>\")+8):(string_row.find(\"<tr><td>\")+9)]\n",
    "    emoji_list.append(emoji)"
   ]
  },
  {
   "cell_type": "markdown",
   "id": "fd278f53",
   "metadata": {},
   "source": [
    "**Scraping sentiment scores:**"
   ]
  },
  {
   "cell_type": "markdown",
   "id": "384257b6",
   "metadata": {},
   "source": [
    "Afterwards we need to scrape the sentiment score matching each emoji, which is done in the block of code below. The codes find the sentiment score in each table row (sub-table) by the location of a particular string. For negative scores, string is longer by one symbol because of the minus sign."
   ]
  },
  {
   "cell_type": "code",
   "execution_count": 111,
   "id": "94fce237",
   "metadata": {},
   "outputs": [],
   "source": [
    "sentiment_scores = []\n",
    "\n",
    "for row in tables:\n",
    "    string_row = str(row)\n",
    "    if string_row[string_row.find(\"sentiment score: \")+17] == \"-\":\n",
    "        score = string_row[(string_row.find(\"sentiment score: \")+17):(string_row.find(\"sentiment score: \")+23)]\n",
    "    else:\n",
    "        score = string_row[(string_row.find(\"sentiment score: \")+17):(string_row.find(\"sentiment score: \")+22)]\n",
    "    sentiment_scores.append(score)"
   ]
  },
  {
   "cell_type": "markdown",
   "id": "1ca6d89f",
   "metadata": {},
   "source": [
    "**Creating a dictionary:**"
   ]
  },
  {
   "cell_type": "markdown",
   "id": "f604665a",
   "metadata": {},
   "source": [
    "Finally we gather the scraped data in a dictionary including emojis and associated sentiment scores. I.e. we make relationships between them that can be used later."
   ]
  },
  {
   "cell_type": "code",
   "execution_count": 112,
   "id": "01fdb3d7",
   "metadata": {},
   "outputs": [],
   "source": [
    "score_dict = {}\n",
    "for i in range(1,752):\n",
    "    score_dict[emoji_list[i]] = sentiment_scores[i]"
   ]
  },
  {
   "cell_type": "markdown",
   "id": "8dbb50d1",
   "metadata": {},
   "source": [
    "**Calculating sentiment scores from actual tweets:**"
   ]
  },
  {
   "cell_type": "markdown",
   "id": "d51bc738",
   "metadata": {},
   "source": [
    "As a final step in our analysis using emoji sentiment scores, the block of code below sums the sentiment scores for all tweets per ticker and outputs it’s total score per stock ticker symbol. Note, that negative sentiments have a negative sign meaning that the higher the sentiment score the more positively the tweets regarding a specific stock tend to be. "
   ]
  },
  {
   "cell_type": "code",
   "execution_count": 131,
   "id": "07cba0da",
   "metadata": {},
   "outputs": [],
   "source": [
    "def emoji_score(all_emojis : dict):\n",
    "    total_score = 0\n",
    "    for emoji in all_emojis:\n",
    "        if emoji: # Checking if the emoji list is not empty\n",
    "            for individual_emoji in emoji:\n",
    "                if individual_emoji in score_dict.keys():\n",
    "                    # Scaling the emoji weight by the number of likes and replies:\n",
    "                    total_score = total_score + float(score_dict[individual_emoji]) * float(emoji[individual_emoji]) \n",
    "    total_score = total_score / len(all_emojis) # Dividing total score by the number of tweets that fulfill the criteria to allow for comparison between different tickers\n",
    "    return round(total_score,2)\n"
   ]
  },
  {
   "cell_type": "code",
   "execution_count": 132,
   "id": "4d801a79",
   "metadata": {},
   "outputs": [
    {
     "data": {
      "text/plain": [
       "3.96"
      ]
     },
     "execution_count": 132,
     "metadata": {},
     "output_type": "execute_result"
    }
   ],
   "source": [
    "emoji_score_ticker = emoji_score(all_emojis)\n",
    "emoji_score_ticker"
   ]
  },
  {
   "cell_type": "markdown",
   "id": "a4146756",
   "metadata": {},
   "source": [
    "**Starting with text analysis using NLTK:**"
   ]
  },
  {
   "cell_type": "markdown",
   "id": "751dee4a",
   "metadata": {},
   "source": [
    "Source: https://realpython.com/python-nltk-sentiment-analysis/"
   ]
  },
  {
   "cell_type": "markdown",
   "id": "0f3e52e3",
   "metadata": {},
   "source": [
    "NLTK is a helpful module which facilitates our sentiment analysis for the text in our scaped tweets."
   ]
  },
  {
   "cell_type": "markdown",
   "id": "8960805d",
   "metadata": {},
   "source": [
    "**Importing stop-words, such as \"and\", \"or\" and \"but\" to filter them out:**"
   ]
  },
  {
   "cell_type": "markdown",
   "id": "817d5676",
   "metadata": {},
   "source": [
    "In a first step we shorten the text length of each tweet by simply filtering filling words out. "
   ]
  },
  {
   "cell_type": "code",
   "execution_count": 118,
   "id": "4a31dbc4",
   "metadata": {},
   "outputs": [
    {
     "name": "stderr",
     "output_type": "stream",
     "text": [
      "[nltk_data] Downloading package stopwords to\n",
      "[nltk_data]     C:\\Users\\User\\AppData\\Roaming\\nltk_data...\n",
      "[nltk_data]   Package stopwords is already up-to-date!\n"
     ]
    }
   ],
   "source": [
    "nltk.download('stopwords')\n",
    "stopwords = nltk.corpus.stopwords.words(\"english\")"
   ]
  },
  {
   "cell_type": "markdown",
   "id": "6b62df09",
   "metadata": {},
   "source": [
    "**Creating tokenized lists of tweet words:**"
   ]
  },
  {
   "cell_type": "markdown",
   "id": "0049b6a8",
   "metadata": {},
   "source": [
    "Here we check each word in each tweet, remove the stopwords and only keep alphabet symbols."
   ]
  },
  {
   "cell_type": "code",
   "execution_count": 119,
   "id": "6bc10df1",
   "metadata": {},
   "outputs": [],
   "source": [
    "tokenized_list = []\n",
    "for x in all_tweets:\n",
    "    split_tweet = x.split()\n",
    "    for word in split_tweet:\n",
    "        if word.isalpha():\n",
    "            if word.lower() not in stopwords:\n",
    "                tokenized_list.append(word.lower())\n"
   ]
  },
  {
   "cell_type": "markdown",
   "id": "34b0384c",
   "metadata": {},
   "source": [
    "**Looking at the most frequent words:**"
   ]
  },
  {
   "cell_type": "code",
   "execution_count": 120,
   "id": "a3ea541e",
   "metadata": {},
   "outputs": [
    {
     "name": "stdout",
     "output_type": "stream",
     "text": [
      "      may      call   account      week     today       put       day      flow  watching potential \n",
      "       11         8         4         3         3         3         3         2         2         2 \n"
     ]
    }
   ],
   "source": [
    "x = nltk.FreqDist(tokenized_list)\n",
    "x.tabulate(10)"
   ]
  },
  {
   "cell_type": "markdown",
   "id": "c34ee2bb",
   "metadata": {},
   "source": [
    "**Looking at the most frequent three-word collocations:**"
   ]
  },
  {
   "cell_type": "code",
   "execution_count": 122,
   "id": "04e270ee",
   "metadata": {},
   "outputs": [
    {
     "data": {
      "text/plain": [
       "[(('may', 'call', 'may'), 6),\n",
       " (('call', 'may', 'call'), 4),\n",
       " (('may', 'put', 'may'), 3),\n",
       " (('call', 'may', 'put'), 2),\n",
       " (('put', 'may', 'call'), 2)]"
      ]
     },
     "execution_count": 122,
     "metadata": {},
     "output_type": "execute_result"
    }
   ],
   "source": [
    "y = nltk.collocations.TrigramCollocationFinder.from_words(tokenized_list)\n",
    "y.ngram_fd.most_common(5)"
   ]
  },
  {
   "cell_type": "markdown",
   "id": "aa070582",
   "metadata": {},
   "source": [
    "**Performing sentiment analysis using VADER library:**"
   ]
  },
  {
   "cell_type": "markdown",
   "id": "b78684e1",
   "metadata": {},
   "source": [
    "By using the “SentimentIntensityAnalyzer” module and defining thresholds in the sentiment scores we define “positive”, “negative” and “neutral” tweets based on the text sentiment analysis."
   ]
  },
  {
   "cell_type": "code",
   "execution_count": 123,
   "id": "6dacae36",
   "metadata": {},
   "outputs": [],
   "source": [
    "sent = SentimentIntensityAnalyzer()"
   ]
  },
  {
   "cell_type": "markdown",
   "id": "d754ee12",
   "metadata": {},
   "source": [
    "**Counting the number of positive, negative and neutral tweets:**"
   ]
  },
  {
   "cell_type": "code",
   "execution_count": 124,
   "id": "51eaf612",
   "metadata": {},
   "outputs": [],
   "source": [
    "def text_score(all_tweets):\n",
    "    positive = 0\n",
    "    negative = 0\n",
    "    neutral = 0\n",
    "    for x in all_tweets:\n",
    "        tweet_score = sent.polarity_scores(x)\n",
    "        if tweet_score[\"compound\"] >= 0.3:\n",
    "            positive += 1\n",
    "        elif tweet_score[\"compound\"] > -0.3:\n",
    "            neutral += 1\n",
    "        else:\n",
    "            negative += 1\n",
    "    return [positive, neutral, negative]"
   ]
  },
  {
   "cell_type": "markdown",
   "id": "887110b0",
   "metadata": {},
   "source": [
    "**Providing a summary of the sentiment, that is, emoji score + number of positive/negative/neutral tweets:**"
   ]
  },
  {
   "cell_type": "markdown",
   "id": "90640813",
   "metadata": {},
   "source": [
    "This is an example score for Apple."
   ]
  },
  {
   "cell_type": "code",
   "execution_count": 133,
   "id": "91107e47",
   "metadata": {},
   "outputs": [
    {
     "name": "stdout",
     "output_type": "stream",
     "text": [
      "Emoji Score: 3.96 . Positive, Neutral and Negative Tweets:  [9, 18, 3]\n"
     ]
    }
   ],
   "source": [
    "emoji_score2 = emoji_score(all_emojis)\n",
    "text_score2 = text_score(all_tweets)\n",
    "\n",
    "print(\"Emoji Score:\", emoji_score2, \". Positive, Neutral and Negative Tweets: \", text_score2)"
   ]
  },
  {
   "cell_type": "markdown",
   "id": "63312de1",
   "metadata": {},
   "source": [
    "**Providing a summary of these scores for selected tickers:**"
   ]
  },
  {
   "cell_type": "markdown",
   "id": "e2ff7ed5",
   "metadata": {},
   "source": [
    "Now, it’s your turn! Use as many ticker symbols as you want to analyze by typing them into the provided input box. After you typed the last ticker symbol you want to add simply type “Stop” in the input box and the loop will break. Thereafter jump to the last line and see the results provided!\n",
    "The scores will be calculated based on last 500 tweets for each inputted ticker (if they satisfy like count criteria)."
   ]
  },
  {
   "cell_type": "code",
   "execution_count": 134,
   "id": "f8bf75fe",
   "metadata": {},
   "outputs": [],
   "source": [
    "selected_ticker_scores = pd.DataFrame()\n",
    "input_ticker = \"\"\n",
    "input_ticker_list = []\n",
    "\n",
    "while input_ticker != \"Stop\":  \n",
    "    input_ticker = str(input(\"Please enter some tickers or type 'Stop': \"))\n",
    "    if input_ticker != \"Stop\":\n",
    "        input_ticker_list.append(input_ticker)\n",
    "\n",
    "for ticker in input_ticker_list:\n",
    "    try:\n",
    "        tweets = [i for i in twitter_scrape(ticker, 500)]\n",
    "        emojis = [values for keys, values in twitter_scrape(ticker, 500).items()]\n",
    "    except:\n",
    "        continue\n",
    "    selected_ticker_scores.loc[ticker, \"Emoji Score\"] = emoji_score(emojis)\n",
    "    selected_ticker_scores.loc[ticker, \"Positive Tweets\"] = text_score(tweets)[0]\n",
    "    selected_ticker_scores.loc[ticker, \"Neutral Tweets\"] = text_score(tweets)[1]\n",
    "    selected_ticker_scores.loc[ticker, \"Negative Tweets\"] = text_score(tweets)[2]"
   ]
  },
  {
   "cell_type": "markdown",
   "id": "9f07889b",
   "metadata": {},
   "source": [
    "**Sorting by the highest Emoji Scores, as an example:**"
   ]
  },
  {
   "cell_type": "code",
   "execution_count": 135,
   "id": "9f43a34f",
   "metadata": {},
   "outputs": [
    {
     "data": {
      "text/html": [
       "<div>\n",
       "<style scoped>\n",
       "    .dataframe tbody tr th:only-of-type {\n",
       "        vertical-align: middle;\n",
       "    }\n",
       "\n",
       "    .dataframe tbody tr th {\n",
       "        vertical-align: top;\n",
       "    }\n",
       "\n",
       "    .dataframe thead th {\n",
       "        text-align: right;\n",
       "    }\n",
       "</style>\n",
       "<table border=\"1\" class=\"dataframe\">\n",
       "  <thead>\n",
       "    <tr style=\"text-align: right;\">\n",
       "      <th></th>\n",
       "      <th>Emoji Score</th>\n",
       "      <th>Positive Tweets</th>\n",
       "      <th>Neutral Tweets</th>\n",
       "      <th>Negative Tweets</th>\n",
       "    </tr>\n",
       "  </thead>\n",
       "  <tbody>\n",
       "    <tr>\n",
       "      <th>GOGL</th>\n",
       "      <td>7.83</td>\n",
       "      <td>20.0</td>\n",
       "      <td>65.0</td>\n",
       "      <td>8.0</td>\n",
       "    </tr>\n",
       "    <tr>\n",
       "      <th>TSLA</th>\n",
       "      <td>2.08</td>\n",
       "      <td>4.0</td>\n",
       "      <td>11.0</td>\n",
       "      <td>5.0</td>\n",
       "    </tr>\n",
       "  </tbody>\n",
       "</table>\n",
       "</div>"
      ],
      "text/plain": [
       "      Emoji Score  Positive Tweets  Neutral Tweets  Negative Tweets\n",
       "GOGL         7.83             20.0            65.0              8.0\n",
       "TSLA         2.08              4.0            11.0              5.0"
      ]
     },
     "execution_count": 135,
     "metadata": {},
     "output_type": "execute_result"
    }
   ],
   "source": [
    "selected_ticker_scores.sort_values(by=[\"Emoji Score\"], ascending=False)"
   ]
  },
  {
   "cell_type": "markdown",
   "id": "08dd8dc5",
   "metadata": {},
   "source": [
    "**Plotting:**"
   ]
  },
  {
   "cell_type": "markdown",
   "id": "ce3ff1d0",
   "metadata": {},
   "source": [
    "Defining a function for plotting selected column:"
   ]
  },
  {
   "cell_type": "code",
   "execution_count": 136,
   "id": "0bd2d4b7",
   "metadata": {},
   "outputs": [],
   "source": [
    "def plot_function(column):\n",
    "    y = np.array(selected_ticker_scores[column])\n",
    "    x = selected_ticker_scores.index\n",
    "\n",
    "    chart_title = column + \" For Selected companies\"\n",
    "\n",
    "    plt.style.use('ggplot')\n",
    "    plt.bar(x, y, color=\"green\")\n",
    "    plt.xlabel(\"Companies\")\n",
    "    plt.ylabel(column)\n",
    "    plt.title(chart_title)\n",
    "    plt.show()\n",
    "\n",
    "    plt.pie(y, labels=x)\n",
    "    plt.title(chart_title)\n",
    "    plt.show()"
   ]
  },
  {
   "cell_type": "code",
   "execution_count": 138,
   "id": "3a42b6d9",
   "metadata": {},
   "outputs": [
    {
     "data": {
      "image/png": "[encoded data removed]",
      "text/plain": [
       "<Figure size 432x288 with 1 Axes>"
      ]
     },
     "metadata": {},
     "output_type": "display_data"
    },
    {
     "data": {
      "image/png": "[encoded data removed]",
      "text/plain": [
       "<Figure size 432x288 with 1 Axes>"
      ]
     },
     "metadata": {},
     "output_type": "display_data"
    }
   ],
   "source": [
    "plot_function(\"Emoji Score\")"
   ]
  },
  {
   "cell_type": "markdown",
   "id": "8af8975e",
   "metadata": {},
   "source": [
    "**Extension:**"
   ]
  },
  {
   "cell_type": "markdown",
   "id": "25a63c84",
   "metadata": {},
   "source": [
    "The following code expands the analysis for S&P 500 companies and sorts them based on their emoji scores."
   ]
  },
  {
   "cell_type": "code",
   "execution_count": 139,
   "id": "c0e2a8f4",
   "metadata": {},
   "outputs": [],
   "source": [
    "wikipedia=pd.read_html('https://en.wikipedia.org/wiki/List_of_S%26P_500_companies')\n",
    "first_table = wikipedia[0]\n",
    "tickers = first_table[\"Symbol\"]\n",
    "sp_tickers = [i for i in tickers]"
   ]
  },
  {
   "cell_type": "code",
   "execution_count": 142,
   "id": "683645b6",
   "metadata": {},
   "outputs": [
    {
     "data": {
      "text/html": [
       "<div>\n",
       "<style scoped>\n",
       "    .dataframe tbody tr th:only-of-type {\n",
       "        vertical-align: middle;\n",
       "    }\n",
       "\n",
       "    .dataframe tbody tr th {\n",
       "        vertical-align: top;\n",
       "    }\n",
       "\n",
       "    .dataframe thead th {\n",
       "        text-align: right;\n",
       "    }\n",
       "</style>\n",
       "<table border=\"1\" class=\"dataframe\">\n",
       "  <thead>\n",
       "    <tr style=\"text-align: right;\">\n",
       "      <th></th>\n",
       "      <th>Emoji Score</th>\n",
       "      <th>Positive Tweets</th>\n",
       "      <th>Neutral Tweets</th>\n",
       "      <th>Negative Tweets</th>\n",
       "    </tr>\n",
       "  </thead>\n",
       "  <tbody>\n",
       "    <tr>\n",
       "      <th>ABBV</th>\n",
       "      <td>7.72</td>\n",
       "      <td>5.0</td>\n",
       "      <td>32.0</td>\n",
       "      <td>0.0</td>\n",
       "    </tr>\n",
       "    <tr>\n",
       "      <th>AOS</th>\n",
       "      <td>3.90</td>\n",
       "      <td>0.0</td>\n",
       "      <td>16.0</td>\n",
       "      <td>0.0</td>\n",
       "    </tr>\n",
       "    <tr>\n",
       "      <th>ABT</th>\n",
       "      <td>3.88</td>\n",
       "      <td>2.0</td>\n",
       "      <td>2.0</td>\n",
       "      <td>5.0</td>\n",
       "    </tr>\n",
       "    <tr>\n",
       "      <th>ABMD</th>\n",
       "      <td>0.24</td>\n",
       "      <td>5.0</td>\n",
       "      <td>19.0</td>\n",
       "      <td>1.0</td>\n",
       "    </tr>\n",
       "    <tr>\n",
       "      <th>MMM</th>\n",
       "      <td>0.00</td>\n",
       "      <td>0.0</td>\n",
       "      <td>3.0</td>\n",
       "      <td>1.0</td>\n",
       "    </tr>\n",
       "  </tbody>\n",
       "</table>\n",
       "</div>"
      ],
      "text/plain": [
       "      Emoji Score  Positive Tweets  Neutral Tweets  Negative Tweets\n",
       "ABBV         7.72              5.0            32.0              0.0\n",
       "AOS          3.90              0.0            16.0              0.0\n",
       "ABT          3.88              2.0             2.0              5.0\n",
       "ABMD         0.24              5.0            19.0              1.0\n",
       "MMM          0.00              0.0             3.0              1.0"
      ]
     },
     "execution_count": 142,
     "metadata": {},
     "output_type": "execute_result"
    }
   ],
   "source": [
    "sp_scores = pd.DataFrame()\n",
    "\n",
    "for ticker in sp_tickers[0:5]: # Looping just through the first 5 tickers to save time\n",
    "    tweets = [i for i in twitter_scrape(ticker, 500)]\n",
    "    emojis = [values for keys, values in twitter_scrape(ticker, 500).items()]\n",
    "    sp_scores.loc[ticker, \"Emoji Score\"] = emoji_score(emojis)\n",
    "    sp_scores.loc[ticker, \"Positive Tweets\"] = text_score(tweets)[0]\n",
    "    sp_scores.loc[ticker, \"Neutral Tweets\"] = text_score(tweets)[1]\n",
    "    sp_scores.loc[ticker, \"Negative Tweets\"] = text_score(tweets)[2]\n",
    "\n",
    "sp_scores.sort_values(by=[\"Emoji Score\"], ascending=False)"
   ]
  },
  {
   "cell_type": "markdown",
   "id": "982de8f4",
   "metadata": {},
   "source": [
    "Using the logic provided, the code can be expanded for whatever selection of companies the user wants to."
   ]
  }
 ],
 "metadata": {
  "kernelspec": {
   "display_name": "Python 3 (ipykernel)",
   "language": "python",
   "name": "python3"
  },
  "language_info": {
   "codemirror_mode": {
    "name": "ipython",
    "version": 3
   },
   "file_extension": ".py",
   "mimetype": "text/x-python",
   "name": "python",
   "nbconvert_exporter": "python",
   "pygments_lexer": "ipython3",
   "version": "3.10.1"
  }
 },
 "nbformat": 4,
 "nbformat_minor": 5
}
