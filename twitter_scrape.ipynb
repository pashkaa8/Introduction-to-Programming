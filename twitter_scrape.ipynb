{
 "cells": [
  {
   "cell_type": "code",
   "execution_count": 30,
   "id": "369a615a",
   "metadata": {},
   "outputs": [],
   "source": [
    "import pandas as pd\n",
    "import numpy as np\n",
    "import datetime as dt\n",
    "import snscrape.modules.twitter as sntwitter\n",
    "from emoji import UNICODE_EMOJI # Read documentation\n",
    "import requests\n",
    "import bs4"
   ]
  },
  {
   "cell_type": "markdown",
   "id": "e5bd404a",
   "metadata": {},
   "source": [
    "**Defining tickers**"
   ]
  },
  {
   "cell_type": "code",
   "execution_count": 2,
   "id": "2e652b22",
   "metadata": {},
   "outputs": [],
   "source": [
    "ticker = \"AAPL\""
   ]
  },
  {
   "cell_type": "markdown",
   "id": "09d2e144",
   "metadata": {},
   "source": [
    "**Twitter scraping example**"
   ]
  },
  {
   "cell_type": "code",
   "execution_count": 149,
   "id": "d06d7e50",
   "metadata": {},
   "outputs": [
    {
     "data": {
      "text/plain": [
       "['👇', '🩸', '🩸', '🩸']"
      ]
     },
     "execution_count": 149,
     "metadata": {},
     "output_type": "execute_result"
    }
   ],
   "source": [
    "max_tweets = 100\n",
    "all_tweets = []\n",
    "all_emojis = []\n",
    "\n",
    "for i, tweet in enumerate(sntwitter.TwitterSearchScraper(ticker).get_items()):\n",
    "    if i > max_tweets:\n",
    "        break\n",
    "    all_tweets.append(tweet.content)\n",
    "\n",
    "for i in all_tweets:\n",
    "    for element in i:\n",
    "        if element in UNICODE_EMOJI['en']:\n",
    "            all_emojis.append(element)\n",
    "\n",
    "all_emojis[0:4]"
   ]
  },
  {
   "cell_type": "markdown",
   "id": "96f3e0d9",
   "metadata": {},
   "source": [
    "**Firstly, scraping for emoji category data from the web:**"
   ]
  },
  {
   "cell_type": "code",
   "execution_count": 56,
   "id": "c062dee0",
   "metadata": {},
   "outputs": [],
   "source": [
    "url = \"https://character.construction/emoji-categories\"\n",
    "response = requests.get(url)\n",
    "html_parsed = bs4.BeautifulSoup(response.text, 'html.parser')\n"
   ]
  },
  {
   "cell_type": "markdown",
   "id": "c0edfeec",
   "metadata": {},
   "source": [
    "**Classifying into headers (categories) and tables (individual emojis in these categories)**"
   ]
  },
  {
   "cell_type": "code",
   "execution_count": null,
   "id": "e413bfaf",
   "metadata": {},
   "outputs": [],
   "source": [
    "tables = html_parsed.find_all(\"table\")\n",
    "headers = html_parsed.find_all(\"h3\")"
   ]
  },
  {
   "cell_type": "markdown",
   "id": "c0bee058",
   "metadata": {},
   "source": [
    "**Cleaning header strings:**"
   ]
  },
  {
   "cell_type": "code",
   "execution_count": 106,
   "id": "cae181a1",
   "metadata": {},
   "outputs": [],
   "source": [
    "clean_headers = []\n",
    "\n",
    "for i in headers:\n",
    "    cleaned = str(i).replace(\"<h3 id=\",\"\").replace(\"</h3>\",\"\")\n",
    "    cleaned = cleaned[(cleaned.find(\">\")+1):]\n",
    "    clean_headers.append(cleaned)"
   ]
  },
  {
   "cell_type": "markdown",
   "id": "0eedfcde",
   "metadata": {},
   "source": [
    "**Cleaning tables:**"
   ]
  },
  {
   "cell_type": "code",
   "execution_count": 117,
   "id": "0830012f",
   "metadata": {},
   "outputs": [],
   "source": [
    "# Function from StackExchange to find nth occurence of a substring:\n",
    "\n",
    "def find_nth(haystack, needle, n):\n",
    "    start = haystack.find(needle)\n",
    "    while start >= 0 and n > 1:\n",
    "        start = haystack.find(needle, start+len(needle))\n",
    "        n -= 1\n",
    "    return start"
   ]
  },
  {
   "cell_type": "code",
   "execution_count": 229,
   "id": "c2f11386",
   "metadata": {},
   "outputs": [],
   "source": [
    "clean_tables = []\n",
    "\n",
    "for i in tables:\n",
    "    all = str(i.find_all(\"td\"))\n",
    "    number_unicodes = all.count(\"U+\")\n",
    "    unicode_list = []\n",
    "    for i in range(0,(number_unicodes+1)):\n",
    "        x = find_nth(all, \"U+\", i)\n",
    "        unicode_char = all[x:(x+7)]\n",
    "        # Converting into a symbol:\n",
    "        try:\n",
    "            unicode_symbol = chr(int(unicode_char[2:], 16))\n",
    "        except:\n",
    "            continue\n",
    "        \n",
    "        unicode_list.append(unicode_symbol)\n",
    "    clean_tables.append(unicode_list)"
   ]
  },
  {
   "cell_type": "markdown",
   "id": "1ca6d89f",
   "metadata": {},
   "source": [
    "**Creating a dictionary:**"
   ]
  },
  {
   "cell_type": "code",
   "execution_count": null,
   "id": "01fdb3d7",
   "metadata": {},
   "outputs": [],
   "source": [
    "classification = {}\n",
    "for i in range(0,98):\n",
    "    classification[str(clean_headers[i])] = clean_tables[i]\n",
    "\n",
    "classification"
   ]
  },
  {
   "cell_type": "code",
   "execution_count": null,
   "id": "c7e8a000",
   "metadata": {},
   "outputs": [],
   "source": [
    "sentiment_score = \n",
    "\n"
   ]
  }
 ],
 "metadata": {
  "kernelspec": {
   "display_name": "Python 3 (ipykernel)",
   "language": "python",
   "name": "python3"
  },
  "language_info": {
   "codemirror_mode": {
    "name": "ipython",
    "version": 3
   },
   "file_extension": ".py",
   "mimetype": "text/x-python",
   "name": "python",
   "nbconvert_exporter": "python",
   "pygments_lexer": "ipython3",
   "version": "3.10.1"
  }
 },
 "nbformat": 4,
 "nbformat_minor": 5
}
