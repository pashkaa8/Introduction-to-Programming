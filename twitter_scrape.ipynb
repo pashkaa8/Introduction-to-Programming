{
 "cells": [
  {
   "cell_type": "code",
   "execution_count": 75,
   "id": "369a615a",
   "metadata": {},
   "outputs": [],
   "source": [
    "import pandas as pd\n",
    "import numpy as np\n",
    "import datetime as dt\n",
    "import snscrape.modules.twitter as sntwitter\n",
    "from emoji import UNICODE_EMOJI"
   ]
  },
  {
   "cell_type": "markdown",
   "id": "e5bd404a",
   "metadata": {},
   "source": [
    "**Defining tickers**"
   ]
  },
  {
   "cell_type": "code",
   "execution_count": 65,
   "id": "2e652b22",
   "metadata": {},
   "outputs": [],
   "source": [
    "ticker = \"AAPL\""
   ]
  },
  {
   "cell_type": "markdown",
   "id": "09d2e144",
   "metadata": {},
   "source": [
    "**Twitter scraping example**"
   ]
  },
  {
   "cell_type": "code",
   "execution_count": null,
   "id": "d06d7e50",
   "metadata": {},
   "outputs": [],
   "source": [
    "max_tweets = 100\n",
    "all_tweets = []\n",
    "all_emojis = []\n",
    "\n",
    "for i, tweet in enumerate(sntwitter.TwitterSearchScraper(ticker).get_items()):\n",
    "    if i > max_tweets:\n",
    "        break\n",
    "    all_tweets.append(tweet.content)\n",
    "\n",
    "for i in all_tweets:\n",
    "    for element in i:\n",
    "        if element in UNICODE_EMOJI['en']:\n",
    "            all_emojis.append(element)\n",
    "\n",
    "all_emojis"
   ]
  },
  {
   "cell_type": "markdown",
   "id": "5379ec9e",
   "metadata": {},
   "source": [
    "**Clasifying emojis by categories**"
   ]
  },
  {
   "cell_type": "code",
   "execution_count": null,
   "id": "1958b7af",
   "metadata": {},
   "outputs": [],
   "source": []
  }
 ],
 "metadata": {
  "kernelspec": {
   "display_name": "Python 3 (ipykernel)",
   "language": "python",
   "name": "python3"
  },
  "language_info": {
   "codemirror_mode": {
    "name": "ipython",
    "version": 3
   },
   "file_extension": ".py",
   "mimetype": "text/x-python",
   "name": "python",
   "nbconvert_exporter": "python",
   "pygments_lexer": "ipython3",
   "version": "3.10.1"
  }
 },
 "nbformat": 4,
 "nbformat_minor": 5
}
