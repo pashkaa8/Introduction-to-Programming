{
 "cells": [
  {
   "cell_type": "code",
   "execution_count": 75,
   "id": "369a615a",
   "metadata": {},
   "outputs": [],
   "source": [
    "import pandas as pd\n",
    "import numpy as np\n",
    "import datetime as dt\n",
    "import snscrape.modules.twitter as sntwitter\n",
    "from emoji import UNICODE_EMOJI"
   ]
  },
  {
   "cell_type": "markdown",
   "id": "e5bd404a",
   "metadata": {},
   "source": [
    "**Defining tickers**"
   ]
  },
  {
   "cell_type": "code",
   "execution_count": 65,
   "id": "2e652b22",
   "metadata": {},
   "outputs": [],
   "source": [
    "ticker = \"AAPL\""
   ]
  },
  {
   "cell_type": "markdown",
   "id": "09d2e144",
   "metadata": {},
   "source": [
    "**Twitter scraping example**"
   ]
  },
  {
   "cell_type": "code",
   "execution_count": null,
   "id": "d06d7e50",
   "metadata": {},
   "outputs": [],
   "source": [
    "max_tweets = 100\n",
    "all_tweets = []\n",
    "all_emojis = []\n",
    "\n",
    "for i, tweet in enumerate(sntwitter.TwitterSearchScraper(ticker).get_items()):\n",
    "    if i > max_tweets:\n",
    "        break\n",
    "    all_tweets.append(tweet.content)\n",
    "\n",
    "for i in all_tweets:\n",
    "    for element in i:\n",
    "        if element in UNICODE_EMOJI['en']:\n",
    "            all_emojis.append(element)\n",
    "\n",
    "all_emojis"
   ]
  },
  {
   "cell_type": "markdown",
   "id": "5379ec9e",
   "metadata": {},
   "source": [
    "**Clasifying emojis by categories**"
   ]
  },
  {
   "cell_type": "code",
   "execution_count": 82,
   "id": "1958b7af",
   "metadata": {},
   "outputs": [
    {
     "ename": "ParserError",
     "evalue": "Error tokenizing data. C error: Expected 1 fields in line 449, saw 2\n",
     "output_type": "error",
     "traceback": [
      "\u001b[1;31m---------------------------------------------------------------------------\u001b[0m",
      "\u001b[1;31mParserError\u001b[0m                               Traceback (most recent call last)",
      "\u001b[1;32mc:\\Users\\User\\Documents\\GitHub\\Introduction-to-Programming\\twitter_scrape.ipynb Cell 7'\u001b[0m in \u001b[0;36m<module>\u001b[1;34m\u001b[0m\n\u001b[1;32m----> <a href='vscode-notebook-cell:/c%3A/Users/User/Documents/GitHub/Introduction-to-Programming/twitter_scrape.ipynb#ch0000009?line=0'>1</a>\u001b[0m example \u001b[39m=\u001b[39m pd\u001b[39m.\u001b[39;49mread_csv(\u001b[39m\"\u001b[39;49m\u001b[39memojis_data.csv\u001b[39;49m\u001b[39m\"\u001b[39;49m)\n",
      "File \u001b[1;32m~\\AppData\\Local\\Programs\\Python\\Python310\\lib\\site-packages\\pandas\\util\\_decorators.py:311\u001b[0m, in \u001b[0;36mdeprecate_nonkeyword_arguments.<locals>.decorate.<locals>.wrapper\u001b[1;34m(*args, **kwargs)\u001b[0m\n\u001b[0;32m    <a href='file:///c%3A/Users/User/AppData/Local/Programs/Python/Python310/lib/site-packages/pandas/util/_decorators.py?line=304'>305</a>\u001b[0m \u001b[39mif\u001b[39;00m \u001b[39mlen\u001b[39m(args) \u001b[39m>\u001b[39m num_allow_args:\n\u001b[0;32m    <a href='file:///c%3A/Users/User/AppData/Local/Programs/Python/Python310/lib/site-packages/pandas/util/_decorators.py?line=305'>306</a>\u001b[0m     warnings\u001b[39m.\u001b[39mwarn(\n\u001b[0;32m    <a href='file:///c%3A/Users/User/AppData/Local/Programs/Python/Python310/lib/site-packages/pandas/util/_decorators.py?line=306'>307</a>\u001b[0m         msg\u001b[39m.\u001b[39mformat(arguments\u001b[39m=\u001b[39marguments),\n\u001b[0;32m    <a href='file:///c%3A/Users/User/AppData/Local/Programs/Python/Python310/lib/site-packages/pandas/util/_decorators.py?line=307'>308</a>\u001b[0m         \u001b[39mFutureWarning\u001b[39;00m,\n\u001b[0;32m    <a href='file:///c%3A/Users/User/AppData/Local/Programs/Python/Python310/lib/site-packages/pandas/util/_decorators.py?line=308'>309</a>\u001b[0m         stacklevel\u001b[39m=\u001b[39mstacklevel,\n\u001b[0;32m    <a href='file:///c%3A/Users/User/AppData/Local/Programs/Python/Python310/lib/site-packages/pandas/util/_decorators.py?line=309'>310</a>\u001b[0m     )\n\u001b[1;32m--> <a href='file:///c%3A/Users/User/AppData/Local/Programs/Python/Python310/lib/site-packages/pandas/util/_decorators.py?line=310'>311</a>\u001b[0m \u001b[39mreturn\u001b[39;00m func(\u001b[39m*\u001b[39margs, \u001b[39m*\u001b[39m\u001b[39m*\u001b[39mkwargs)\n",
      "File \u001b[1;32m~\\AppData\\Local\\Programs\\Python\\Python310\\lib\\site-packages\\pandas\\io\\parsers\\readers.py:586\u001b[0m, in \u001b[0;36mread_csv\u001b[1;34m(filepath_or_buffer, sep, delimiter, header, names, index_col, usecols, squeeze, prefix, mangle_dupe_cols, dtype, engine, converters, true_values, false_values, skipinitialspace, skiprows, skipfooter, nrows, na_values, keep_default_na, na_filter, verbose, skip_blank_lines, parse_dates, infer_datetime_format, keep_date_col, date_parser, dayfirst, cache_dates, iterator, chunksize, compression, thousands, decimal, lineterminator, quotechar, quoting, doublequote, escapechar, comment, encoding, encoding_errors, dialect, error_bad_lines, warn_bad_lines, on_bad_lines, delim_whitespace, low_memory, memory_map, float_precision, storage_options)\u001b[0m\n\u001b[0;32m    <a href='file:///c%3A/Users/User/AppData/Local/Programs/Python/Python310/lib/site-packages/pandas/io/parsers/readers.py?line=570'>571</a>\u001b[0m kwds_defaults \u001b[39m=\u001b[39m _refine_defaults_read(\n\u001b[0;32m    <a href='file:///c%3A/Users/User/AppData/Local/Programs/Python/Python310/lib/site-packages/pandas/io/parsers/readers.py?line=571'>572</a>\u001b[0m     dialect,\n\u001b[0;32m    <a href='file:///c%3A/Users/User/AppData/Local/Programs/Python/Python310/lib/site-packages/pandas/io/parsers/readers.py?line=572'>573</a>\u001b[0m     delimiter,\n\u001b[1;32m   (...)\u001b[0m\n\u001b[0;32m    <a href='file:///c%3A/Users/User/AppData/Local/Programs/Python/Python310/lib/site-packages/pandas/io/parsers/readers.py?line=581'>582</a>\u001b[0m     defaults\u001b[39m=\u001b[39m{\u001b[39m\"\u001b[39m\u001b[39mdelimiter\u001b[39m\u001b[39m\"\u001b[39m: \u001b[39m\"\u001b[39m\u001b[39m,\u001b[39m\u001b[39m\"\u001b[39m},\n\u001b[0;32m    <a href='file:///c%3A/Users/User/AppData/Local/Programs/Python/Python310/lib/site-packages/pandas/io/parsers/readers.py?line=582'>583</a>\u001b[0m )\n\u001b[0;32m    <a href='file:///c%3A/Users/User/AppData/Local/Programs/Python/Python310/lib/site-packages/pandas/io/parsers/readers.py?line=583'>584</a>\u001b[0m kwds\u001b[39m.\u001b[39mupdate(kwds_defaults)\n\u001b[1;32m--> <a href='file:///c%3A/Users/User/AppData/Local/Programs/Python/Python310/lib/site-packages/pandas/io/parsers/readers.py?line=585'>586</a>\u001b[0m \u001b[39mreturn\u001b[39;00m _read(filepath_or_buffer, kwds)\n",
      "File \u001b[1;32m~\\AppData\\Local\\Programs\\Python\\Python310\\lib\\site-packages\\pandas\\io\\parsers\\readers.py:488\u001b[0m, in \u001b[0;36m_read\u001b[1;34m(filepath_or_buffer, kwds)\u001b[0m\n\u001b[0;32m    <a href='file:///c%3A/Users/User/AppData/Local/Programs/Python/Python310/lib/site-packages/pandas/io/parsers/readers.py?line=484'>485</a>\u001b[0m     \u001b[39mreturn\u001b[39;00m parser\n\u001b[0;32m    <a href='file:///c%3A/Users/User/AppData/Local/Programs/Python/Python310/lib/site-packages/pandas/io/parsers/readers.py?line=486'>487</a>\u001b[0m \u001b[39mwith\u001b[39;00m parser:\n\u001b[1;32m--> <a href='file:///c%3A/Users/User/AppData/Local/Programs/Python/Python310/lib/site-packages/pandas/io/parsers/readers.py?line=487'>488</a>\u001b[0m     \u001b[39mreturn\u001b[39;00m parser\u001b[39m.\u001b[39;49mread(nrows)\n",
      "File \u001b[1;32m~\\AppData\\Local\\Programs\\Python\\Python310\\lib\\site-packages\\pandas\\io\\parsers\\readers.py:1047\u001b[0m, in \u001b[0;36mTextFileReader.read\u001b[1;34m(self, nrows)\u001b[0m\n\u001b[0;32m   <a href='file:///c%3A/Users/User/AppData/Local/Programs/Python/Python310/lib/site-packages/pandas/io/parsers/readers.py?line=1044'>1045</a>\u001b[0m \u001b[39mdef\u001b[39;00m \u001b[39mread\u001b[39m(\u001b[39mself\u001b[39m, nrows\u001b[39m=\u001b[39m\u001b[39mNone\u001b[39;00m):\n\u001b[0;32m   <a href='file:///c%3A/Users/User/AppData/Local/Programs/Python/Python310/lib/site-packages/pandas/io/parsers/readers.py?line=1045'>1046</a>\u001b[0m     nrows \u001b[39m=\u001b[39m validate_integer(\u001b[39m\"\u001b[39m\u001b[39mnrows\u001b[39m\u001b[39m\"\u001b[39m, nrows)\n\u001b[1;32m-> <a href='file:///c%3A/Users/User/AppData/Local/Programs/Python/Python310/lib/site-packages/pandas/io/parsers/readers.py?line=1046'>1047</a>\u001b[0m     index, columns, col_dict \u001b[39m=\u001b[39m \u001b[39mself\u001b[39;49m\u001b[39m.\u001b[39;49m_engine\u001b[39m.\u001b[39;49mread(nrows)\n\u001b[0;32m   <a href='file:///c%3A/Users/User/AppData/Local/Programs/Python/Python310/lib/site-packages/pandas/io/parsers/readers.py?line=1048'>1049</a>\u001b[0m     \u001b[39mif\u001b[39;00m index \u001b[39mis\u001b[39;00m \u001b[39mNone\u001b[39;00m:\n\u001b[0;32m   <a href='file:///c%3A/Users/User/AppData/Local/Programs/Python/Python310/lib/site-packages/pandas/io/parsers/readers.py?line=1049'>1050</a>\u001b[0m         \u001b[39mif\u001b[39;00m col_dict:\n\u001b[0;32m   <a href='file:///c%3A/Users/User/AppData/Local/Programs/Python/Python310/lib/site-packages/pandas/io/parsers/readers.py?line=1050'>1051</a>\u001b[0m             \u001b[39m# Any column is actually fine:\u001b[39;00m\n",
      "File \u001b[1;32m~\\AppData\\Local\\Programs\\Python\\Python310\\lib\\site-packages\\pandas\\io\\parsers\\c_parser_wrapper.py:224\u001b[0m, in \u001b[0;36mCParserWrapper.read\u001b[1;34m(self, nrows)\u001b[0m\n\u001b[0;32m    <a href='file:///c%3A/Users/User/AppData/Local/Programs/Python/Python310/lib/site-packages/pandas/io/parsers/c_parser_wrapper.py?line=221'>222</a>\u001b[0m \u001b[39mtry\u001b[39;00m:\n\u001b[0;32m    <a href='file:///c%3A/Users/User/AppData/Local/Programs/Python/Python310/lib/site-packages/pandas/io/parsers/c_parser_wrapper.py?line=222'>223</a>\u001b[0m     \u001b[39mif\u001b[39;00m \u001b[39mself\u001b[39m\u001b[39m.\u001b[39mlow_memory:\n\u001b[1;32m--> <a href='file:///c%3A/Users/User/AppData/Local/Programs/Python/Python310/lib/site-packages/pandas/io/parsers/c_parser_wrapper.py?line=223'>224</a>\u001b[0m         chunks \u001b[39m=\u001b[39m \u001b[39mself\u001b[39;49m\u001b[39m.\u001b[39;49m_reader\u001b[39m.\u001b[39;49mread_low_memory(nrows)\n\u001b[0;32m    <a href='file:///c%3A/Users/User/AppData/Local/Programs/Python/Python310/lib/site-packages/pandas/io/parsers/c_parser_wrapper.py?line=224'>225</a>\u001b[0m         \u001b[39m# destructive to chunks\u001b[39;00m\n\u001b[0;32m    <a href='file:///c%3A/Users/User/AppData/Local/Programs/Python/Python310/lib/site-packages/pandas/io/parsers/c_parser_wrapper.py?line=225'>226</a>\u001b[0m         data \u001b[39m=\u001b[39m _concatenate_chunks(chunks)\n",
      "File \u001b[1;32m~\\AppData\\Local\\Programs\\Python\\Python310\\lib\\site-packages\\pandas\\_libs\\parsers.pyx:801\u001b[0m, in \u001b[0;36mpandas._libs.parsers.TextReader.read_low_memory\u001b[1;34m()\u001b[0m\n",
      "File \u001b[1;32m~\\AppData\\Local\\Programs\\Python\\Python310\\lib\\site-packages\\pandas\\_libs\\parsers.pyx:857\u001b[0m, in \u001b[0;36mpandas._libs.parsers.TextReader._read_rows\u001b[1;34m()\u001b[0m\n",
      "File \u001b[1;32m~\\AppData\\Local\\Programs\\Python\\Python310\\lib\\site-packages\\pandas\\_libs\\parsers.pyx:843\u001b[0m, in \u001b[0;36mpandas._libs.parsers.TextReader._tokenize_rows\u001b[1;34m()\u001b[0m\n",
      "File \u001b[1;32m~\\AppData\\Local\\Programs\\Python\\Python310\\lib\\site-packages\\pandas\\_libs\\parsers.pyx:1925\u001b[0m, in \u001b[0;36mpandas._libs.parsers.raise_parser_error\u001b[1;34m()\u001b[0m\n",
      "\u001b[1;31mParserError\u001b[0m: Error tokenizing data. C error: Expected 1 fields in line 449, saw 2\n"
     ]
    }
   ],
   "source": [
    "example = pd.read_csv(\"emojis_data.csv\")"
   ]
  },
  {
   "cell_type": "code",
   "execution_count": null,
   "id": "eddc8145",
   "metadata": {},
   "outputs": [],
   "source": []
  }
 ],
 "metadata": {
  "kernelspec": {
   "display_name": "Python 3 (ipykernel)",
   "language": "python",
   "name": "python3"
  },
  "language_info": {
   "codemirror_mode": {
    "name": "ipython",
    "version": 3
   },
   "file_extension": ".py",
   "mimetype": "text/x-python",
   "name": "python",
   "nbconvert_exporter": "python",
   "pygments_lexer": "ipython3",
   "version": "3.10.1"
  }
 },
 "nbformat": 4,
 "nbformat_minor": 5
}
