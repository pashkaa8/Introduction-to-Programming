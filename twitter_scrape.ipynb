{
 "cells": [
  {
   "cell_type": "code",
   "execution_count": 2,
   "id": "369a615a",
   "metadata": {},
   "outputs": [],
   "source": [
    "import pandas as pd\n",
    "import numpy as np\n",
    "import datetime as dt\n",
    "import snscrape.modules.twitter as sntwitter"
   ]
  },
  {
   "cell_type": "markdown",
   "id": "09d2e144",
   "metadata": {},
   "source": [
    "**Twitter scraping**"
   ]
  },
  {
   "cell_type": "code",
   "execution_count": null,
   "id": "8dd1223b",
   "metadata": {},
   "outputs": [],
   "source": [
    "maxTweets = 100\n",
    "\n",
    "for i,tweet in enumerate(sntwitter.TwitterSearchScraper('SALADA').get_items()) :\n",
    "        if i > maxTweets :\n",
    "            break  \n",
    "        print(f\"Big momma thinks that {tweet.content}\")"
   ]
  },
  {
   "cell_type": "code",
   "execution_count": null,
   "id": "97bed014",
   "metadata": {},
   "outputs": [],
   "source": []
  }
 ],
 "metadata": {
  "kernelspec": {
   "display_name": "Python 3 (ipykernel)",
   "language": "python",
   "name": "python3"
  },
  "language_info": {
   "codemirror_mode": {
    "name": "ipython",
    "version": 3
   },
   "file_extension": ".py",
   "mimetype": "text/x-python",
   "name": "python",
   "nbconvert_exporter": "python",
   "pygments_lexer": "ipython3",
   "version": "3.10.1"
  }
 },
 "nbformat": 4,
 "nbformat_minor": 5
}
