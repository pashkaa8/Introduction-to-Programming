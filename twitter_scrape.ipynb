{
 "cells": [
  {
   "cell_type": "code",
   "execution_count": 1,
   "id": "369a615a",
   "metadata": {},
   "outputs": [],
   "source": [
    "import pandas as pd\n",
    "import numpy as np\n",
    "import datetime as dt\n",
    "import snscrape.modules.twitter as sntwitter\n",
    "import sec_api"
   ]
  },
  {
   "cell_type": "markdown",
   "id": "e5bd404a",
   "metadata": {},
   "source": [
    "**Defining tickers**"
   ]
  },
  {
   "cell_type": "code",
   "execution_count": 53,
   "id": "2e652b22",
   "metadata": {},
   "outputs": [],
   "source": [
    "ticker = \"AAPL\"\n",
    "filtering_words = [\"Join\", \"Contest\", \"\"]"
   ]
  },
  {
   "cell_type": "markdown",
   "id": "09d2e144",
   "metadata": {},
   "source": [
    "**Twitter scraping example**"
   ]
  },
  {
   "cell_type": "code",
   "execution_count": null,
   "id": "d06d7e50",
   "metadata": {},
   "outputs": [],
   "source": [
    "max_tweets = 100\n",
    "all_tweets = []\n",
    "\n",
    "for i, tweet in enumerate(sntwitter.TwitterSearchScraper(ticker).get_items()):\n",
    "    if i > max_tweets:\n",
    "        break\n",
    "    \n",
    "    all_tweets.append(tweet.content)\n",
    "\n",
    "print(all_tweets)"
   ]
  },
  {
   "cell_type": "markdown",
   "id": "ed8c72bf",
   "metadata": {},
   "source": [
    "**SEC data download**"
   ]
  },
  {
   "cell_type": "code",
   "execution_count": 41,
   "id": "778a439e",
   "metadata": {},
   "outputs": [
    {
     "data": {
      "text/plain": [
       "'https://www.sec.gov/ix?doc=/Archives/edgar/data/1318605/000156459020018984/tsla-10ka_20191231.htm'"
      ]
     },
     "execution_count": 41,
     "metadata": {},
     "output_type": "execute_result"
    }
   ],
   "source": [
    "queryApi = sec_api.QueryApi(api_key=\"00189af057500fd39b31c01aafc278765a8e2d53c13e30b428ec73785eb5c9eb\")\n",
    "\n",
    "query = {\n",
    "  \"query\": { \"query_string\": { \n",
    "      \"query\": \"ticker:TSLA AND filedAt:{2020-01-01 TO 2020-12-31} AND formType:\\\"10-K\\\"\" \n",
    "    } },\n",
    "  \"from\": \"0\",\n",
    "  \"size\": \"10\",\n",
    "  \"sort\": [{ \"filedAt\": { \"order\": \"desc\" } }]\n",
    "}\n",
    "\n",
    "filings = queryApi.get_filings(query)\n",
    "\n",
    "link = filings['filings'][0]['linkToFilingDetails']\n",
    "link"
   ]
  },
  {
   "cell_type": "code",
   "execution_count": null,
   "id": "0dc3d62c",
   "metadata": {},
   "outputs": [],
   "source": [
    "from sec_api import XbrlApi\n",
    "\n",
    "xbrlApi = XbrlApi(\"00189af057500fd39b31c01aafc278765a8e2d53c13e30b428ec73785eb5c9eb\")\n",
    "\n",
    "# 10-K HTM File URL example\n",
    "xbrl_json = xbrlApi.xbrl_to_json(\n",
    "    htm_url=\"https://www.sec.gov/Archives/edgar/data/320193/000032019320000096/aapl-20200926.htm\"\n",
    ")\n",
    "\n",
    "# access income statement, balance sheet and cash flow statement\n",
    "for i in xbrl_json:\n",
    "    print(i)\n"
   ]
  },
  {
   "cell_type": "code",
   "execution_count": null,
   "id": "9a71993e",
   "metadata": {},
   "outputs": [],
   "source": [
    "\n",
    "# 10-K XBRL File URL example\n",
    "xbrl_json = xbrlApi.xbrl_to_json(\n",
    "    xbrl_url=\"https://www.sec.gov/Archives/edgar/data/1318605/000156459021004599/tsla-10k_20201231_htm.xml\"\n",
    ")\n",
    "\n",
    "# 10-K accession number example\n",
    "xbrl_json = xbrlApi.xbrl_to_json(accession_no=\"0001564590-21-004599\")\n",
    "\n",
    "xbrl_json[0]"
   ]
  }
 ],
 "metadata": {
  "kernelspec": {
   "display_name": "Python 3 (ipykernel)",
   "language": "python",
   "name": "python3"
  },
  "language_info": {
   "codemirror_mode": {
    "name": "ipython",
    "version": 3
   },
   "file_extension": ".py",
   "mimetype": "text/x-python",
   "name": "python",
   "nbconvert_exporter": "python",
   "pygments_lexer": "ipython3",
   "version": "3.10.1"
  }
 },
 "nbformat": 4,
 "nbformat_minor": 5
}
