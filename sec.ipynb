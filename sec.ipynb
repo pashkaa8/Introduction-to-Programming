{
 "cells": [
  {
   "cell_type": "markdown",
   "metadata": {},
   "source": [
    "**SEC data download**"
   ]
  },
  {
   "cell_type": "code",
   "execution_count": null,
   "metadata": {},
   "outputs": [],
   "source": [
    "queryApi = sec_api.QueryApi(api_key=\"00189af057500fd39b31c01aafc278765a8e2d53c13e30b428ec73785eb5c9eb\")\n",
    "\n",
    "query = {\n",
    "  \"query\": { \"query_string\": { \n",
    "      \"query\": \"ticker:TSLA AND filedAt:{2020-01-01 TO 2020-12-31} AND formType:\\\"10-K\\\"\" \n",
    "    } },\n",
    "  \"from\": \"0\",\n",
    "  \"size\": \"10\",\n",
    "  \"sort\": [{ \"filedAt\": { \"order\": \"desc\" } }]\n",
    "}\n",
    "\n",
    "filings = queryApi.get_filings(query)\n",
    "\n",
    "link = filings['filings'][0]['linkToFilingDetails']\n",
    "link"
   ]
  },
  {
   "cell_type": "code",
   "execution_count": null,
   "metadata": {},
   "outputs": [],
   "source": [
    "from sec_api import XbrlApi\n",
    "\n",
    "xbrlApi = XbrlApi(\"00189af057500fd39b31c01aafc278765a8e2d53c13e30b428ec73785eb5c9eb\")\n",
    "\n",
    "# 10-K HTM File URL example\n",
    "xbrl_json = xbrlApi.xbrl_to_json(\n",
    "    htm_url=\"https://www.sec.gov/Archives/edgar/data/320193/000032019320000096/aapl-20200926.htm\"\n",
    ")\n",
    "\n",
    "# access income statement, balance sheet and cash flow statement\n",
    "for i in xbrl_json:\n",
    "    print(i)\n",
    "\n",
    "\n",
    "# 10-K XBRL File URL example\n",
    "xbrl_json = xbrlApi.xbrl_to_json(\n",
    "    xbrl_url=\"https://www.sec.gov/Archives/edgar/data/1318605/000156459021004599/tsla-10k_20201231_htm.xml\"\n",
    ")\n",
    "\n",
    "# 10-K accession number example\n",
    "xbrl_json = xbrlApi.xbrl_to_json(accession_no=\"0001564590-21-004599\")\n",
    "\n",
    "xbrl_json[0]"
   ]
  }
 ],
 "metadata": {
  "language_info": {
   "name": "python"
  },
  "orig_nbformat": 4
 },
 "nbformat": 4,
 "nbformat_minor": 2
}
