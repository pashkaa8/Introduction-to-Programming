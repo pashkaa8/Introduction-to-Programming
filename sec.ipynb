{
 "cells": [
  {
   "cell_type": "markdown",
   "metadata": {},
   "source": [
    "**SEC data download**"
   ]
  },
  {
   "cell_type": "code",
   "execution_count": 2,
   "metadata": {},
   "outputs": [],
   "source": [
    "import pandas as pd\n",
    "import numpy as np\n",
    "import datetime as dt\n",
    "import snscrape.modules.twitter as sntwitter\n",
    "import sec_api"
   ]
  },
  {
   "cell_type": "code",
   "execution_count": 1,
   "metadata": {},
   "outputs": [
    {
     "ename": "NameError",
     "evalue": "name 'sec_api' is not defined",
     "output_type": "error",
     "traceback": [
      "\u001b[1;31m---------------------------------------------------------------------------\u001b[0m",
      "\u001b[1;31mNameError\u001b[0m                                 Traceback (most recent call last)",
      "\u001b[1;32mc:\\Users\\User\\Documents\\GitHub\\Introduction-to-Programming\\sec.ipynb Cell 2'\u001b[0m in \u001b[0;36m<module>\u001b[1;34m\u001b[0m\n\u001b[1;32m----> <a href='vscode-notebook-cell:/c%3A/Users/User/Documents/GitHub/Introduction-to-Programming/sec.ipynb#ch0000000?line=0'>1</a>\u001b[0m queryApi \u001b[39m=\u001b[39m sec_api\u001b[39m.\u001b[39mQueryApi(api_key\u001b[39m=\u001b[39m\u001b[39m\"\u001b[39m\u001b[39m00189af057500fd39b31c01aafc278765a8e2d53c13e30b428ec73785eb5c9eb\u001b[39m\u001b[39m\"\u001b[39m)\n\u001b[0;32m      <a href='vscode-notebook-cell:/c%3A/Users/User/Documents/GitHub/Introduction-to-Programming/sec.ipynb#ch0000000?line=2'>3</a>\u001b[0m query \u001b[39m=\u001b[39m {\n\u001b[0;32m      <a href='vscode-notebook-cell:/c%3A/Users/User/Documents/GitHub/Introduction-to-Programming/sec.ipynb#ch0000000?line=3'>4</a>\u001b[0m   \u001b[39m\"\u001b[39m\u001b[39mquery\u001b[39m\u001b[39m\"\u001b[39m: { \u001b[39m\"\u001b[39m\u001b[39mquery_string\u001b[39m\u001b[39m\"\u001b[39m: { \n\u001b[0;32m      <a href='vscode-notebook-cell:/c%3A/Users/User/Documents/GitHub/Introduction-to-Programming/sec.ipynb#ch0000000?line=4'>5</a>\u001b[0m       \u001b[39m\"\u001b[39m\u001b[39mquery\u001b[39m\u001b[39m\"\u001b[39m: \u001b[39m\"\u001b[39m\u001b[39mticker:TSLA AND filedAt:\u001b[39m\u001b[39m{\u001b[39m\u001b[39m2020-01-01 TO 2020-12-31} AND formType:\u001b[39m\u001b[39m\\\"\u001b[39;00m\u001b[39m10-K\u001b[39m\u001b[39m\\\"\u001b[39;00m\u001b[39m\"\u001b[39m \n\u001b[1;32m   (...)\u001b[0m\n\u001b[0;32m      <a href='vscode-notebook-cell:/c%3A/Users/User/Documents/GitHub/Introduction-to-Programming/sec.ipynb#ch0000000?line=8'>9</a>\u001b[0m   \u001b[39m\"\u001b[39m\u001b[39msort\u001b[39m\u001b[39m\"\u001b[39m: [{ \u001b[39m\"\u001b[39m\u001b[39mfiledAt\u001b[39m\u001b[39m\"\u001b[39m: { \u001b[39m\"\u001b[39m\u001b[39morder\u001b[39m\u001b[39m\"\u001b[39m: \u001b[39m\"\u001b[39m\u001b[39mdesc\u001b[39m\u001b[39m\"\u001b[39m } }]\n\u001b[0;32m     <a href='vscode-notebook-cell:/c%3A/Users/User/Documents/GitHub/Introduction-to-Programming/sec.ipynb#ch0000000?line=9'>10</a>\u001b[0m }\n\u001b[0;32m     <a href='vscode-notebook-cell:/c%3A/Users/User/Documents/GitHub/Introduction-to-Programming/sec.ipynb#ch0000000?line=11'>12</a>\u001b[0m filings \u001b[39m=\u001b[39m queryApi\u001b[39m.\u001b[39mget_filings(query)\n",
      "\u001b[1;31mNameError\u001b[0m: name 'sec_api' is not defined"
     ]
    }
   ],
   "source": [
    "queryApi = sec_api.QueryApi(api_key=\"00189af057500fd39b31c01aafc278765a8e2d53c13e30b428ec73785eb5c9eb\")\n",
    "\n",
    "query = {\n",
    "  \"query\": { \"query_string\": { \n",
    "      \"query\": \"ticker:TSLA AND filedAt:{2020-01-01 TO 2020-12-31} AND formType:\\\"10-K\\\"\" \n",
    "    } },\n",
    "  \"from\": \"0\",\n",
    "  \"size\": \"10\",\n",
    "  \"sort\": [{ \"filedAt\": { \"order\": \"desc\" } }]\n",
    "}\n",
    "\n",
    "filings = queryApi.get_filings(query)\n",
    "\n",
    "link = filings['filings'][0]['linkToFilingDetails']\n",
    "link"
   ]
  },
  {
   "cell_type": "code",
   "execution_count": null,
   "metadata": {},
   "outputs": [],
   "source": [
    "from sec_api import XbrlApi\n",
    "\n",
    "xbrlApi = XbrlApi(\"00189af057500fd39b31c01aafc278765a8e2d53c13e30b428ec73785eb5c9eb\")\n",
    "\n",
    "# 10-K HTM File URL example\n",
    "xbrl_json = xbrlApi.xbrl_to_json(\n",
    "    htm_url=\"https://www.sec.gov/Archives/edgar/data/320193/000032019320000096/aapl-20200926.htm\"\n",
    ")\n",
    "\n",
    "# access income statement, balance sheet and cash flow statement\n",
    "for i in xbrl_json:\n",
    "    print(i)\n",
    "\n",
    "\n",
    "# 10-K XBRL File URL example\n",
    "xbrl_json = xbrlApi.xbrl_to_json(\n",
    "    xbrl_url=\"https://www.sec.gov/Archives/edgar/data/1318605/000156459021004599/tsla-10k_20201231_htm.xml\"\n",
    ")\n",
    "\n",
    "# 10-K accession number example\n",
    "xbrl_json = xbrlApi.xbrl_to_json(accession_no=\"0001564590-21-004599\")\n",
    "\n",
    "xbrl_json[0]"
   ]
  }
 ],
 "metadata": {
  "interpreter": {
   "hash": "aecd030d4c8316a52bf122072e28f84bcc79844c2684e041fef2e3f1d9f59078"
  },
  "kernelspec": {
   "display_name": "Python 3.10.1 64-bit",
   "language": "python",
   "name": "python3"
  },
  "language_info": {
   "codemirror_mode": {
    "name": "ipython",
    "version": 3
   },
   "file_extension": ".py",
   "mimetype": "text/x-python",
   "name": "python",
   "nbconvert_exporter": "python",
   "pygments_lexer": "ipython3",
   "version": "3.10.1"
  },
  "orig_nbformat": 4
 },
 "nbformat": 4,
 "nbformat_minor": 2
}
